{
 "cells": [
  {
   "cell_type": "code",
   "execution_count": null,
   "id": "d169857f",
   "metadata": {},
   "outputs": [],
   "source": [
    "import numpy as np\n",
    "import pandas as pd"
   ]
  },
  {
   "cell_type": "code",
   "execution_count": null,
   "id": "fd797804",
   "metadata": {},
   "outputs": [],
   "source": [
    "df = pd.read_csv('data_EDA.csv', sep=';')\n",
    "df.head(5)"
   ]
  },
  {
   "cell_type": "code",
   "execution_count": null,
   "id": "29d61439",
   "metadata": {},
   "outputs": [],
   "source": [
    "df.info()"
   ]
  },
  {
   "cell_type": "code",
   "execution_count": null,
   "id": "20622963",
   "metadata": {},
   "outputs": [],
   "source": [
    "df.isnull().sum()"
   ]
  },
  {
   "cell_type": "code",
   "execution_count": null,
   "id": "8979ffe8",
   "metadata": {},
   "outputs": [],
   "source": [
    "import numpy as np\n",
    "#we select numeric columns in the dataframe\n",
    "numeric = df.select_dtypes(include=np.number)\n",
    "numeric_columns = numeric.columns"
   ]
  },
  {
   "cell_type": "code",
   "execution_count": null,
   "id": "8a079dd9",
   "metadata": {},
   "outputs": [],
   "source": [
    "#print the numeric columns\n",
    "numeric"
   ]
  },
  {
   "cell_type": "code",
   "execution_count": null,
   "id": "daec6843",
   "metadata": {},
   "outputs": [],
   "source": [
    "df= df.fillna(df.mode().iloc[0])\n",
    "df.head()"
   ]
  },
  {
   "cell_type": "code",
   "execution_count": null,
   "id": "d984bc63",
   "metadata": {},
   "outputs": [],
   "source": [
    "cleanup_Embarked = {\"Embarked\":     {\"S\": 1, \"C\": 2 , \"Q\": 3}}"
   ]
  },
  {
   "cell_type": "code",
   "execution_count": null,
   "id": "fd936e27",
   "metadata": {},
   "outputs": [],
   "source": [
    "df = df.replace(cleanup_Embarked)\n",
    "df.head(10)"
   ]
  },
  {
   "cell_type": "code",
   "execution_count": null,
   "id": "8e493335",
   "metadata": {},
   "outputs": [],
   "source": [
    "df.head()"
   ]
  },
  {
   "cell_type": "code",
   "execution_count": null,
   "id": "5d908ae1",
   "metadata": {},
   "outputs": [],
   "source": [
    "import matplotlib.pyplot as plt"
   ]
  },
  {
   "cell_type": "code",
   "execution_count": null,
   "id": "366f5a8d",
   "metadata": {},
   "outputs": [],
   "source": [
    "import seaborn as sns"
   ]
  },
  {
   "cell_type": "code",
   "execution_count": null,
   "id": "b61b7d0e",
   "metadata": {},
   "outputs": [],
   "source": [
    "import matplotlib as mpl\n",
    "import matplotlib.pyplot as plt"
   ]
  },
  {
   "cell_type": "code",
   "execution_count": null,
   "id": "be332525",
   "metadata": {},
   "outputs": [],
   "source": [
    "sns.set_theme(style=\"ticks\")"
   ]
  },
  {
   "cell_type": "code",
   "execution_count": null,
   "id": "2d503f09",
   "metadata": {},
   "outputs": [],
   "source": [
    "f, ax = plt.subplots(figsize=(7, 5))\n",
    "sns.despine(f)"
   ]
  },
  {
   "cell_type": "code",
   "execution_count": null,
   "id": "733b4f77",
   "metadata": {},
   "outputs": [],
   "source": [
    "ax.xaxis.set_major_formatter(mpl.ticker.ScalarFormatter())\n",
    "ax.set_xticks([500, 1000, 2000, 5000, 10000])"
   ]
  },
  {
   "cell_type": "code",
   "execution_count": null,
   "id": "c27bbf88",
   "metadata": {},
   "outputs": [],
   "source": [
    "df = pd.read_csv('data_EDA.csv')\n",
    "df.head(5)"
   ]
  }
 ],
 "metadata": {
  "kernelspec": {
   "display_name": "Python 3 (ipykernel)",
   "language": "python",
   "name": "python3"
  },
  "language_info": {
   "codemirror_mode": {
    "name": "ipython",
    "version": 3
   },
   "file_extension": ".py",
   "mimetype": "text/x-python",
   "name": "python",
   "nbconvert_exporter": "python",
   "pygments_lexer": "ipython3",
   "version": "3.9.7"
  }
 },
 "nbformat": 4,
 "nbformat_minor": 5
}
